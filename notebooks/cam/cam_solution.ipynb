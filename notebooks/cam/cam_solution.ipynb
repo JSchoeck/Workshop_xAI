{
  "nbformat": 4,
  "nbformat_minor": 0,
  "metadata": {
    "colab": {
      "name": "CAM_Solution.ipynb",
      "provenance": [],
      "collapsed_sections": []
    },
    "kernelspec": {
      "name": "python3",
      "display_name": "Python 3"
    },
    "language_info": {
      "name": "python"
    }
  },
  "cells": [
    {
      "cell_type": "markdown",
      "source": [
        "[![Open In Colab](https://colab.research.google.com/assets/colab-badge.svg)](https://colab.research.google.com/github/mahmouddraz/xai/blob/main/notebooks/cam/cam_solution.ipynb)"
      ],
      "metadata": {
        "id": "TsYj2FPLbsqR"
      }
    },
    {
      "cell_type": "markdown",
      "source": [
        "# Imports "
      ],
      "metadata": {
        "id": "dUeNJimg-vHd"
      }
    },
    {
      "cell_type": "code",
      "execution_count": null,
      "metadata": {
        "id": "zr4V_uueVwoE"
      },
      "outputs": [],
      "source": [
        "import tensorflow as tf \n",
        "import tensorflow_datasets as tfds \n",
        "import cv2 \n",
        "import matplotlib.pyplot as plt\n",
        "import scipy as sp \n",
        "import numpy as np "
      ]
    },
    {
      "cell_type": "code",
      "source": [
        "from google.colab import drive\n",
        "drive.mount('/content/drive')"
      ],
      "metadata": {
        "id": "xAvgCDLCbCoy"
      },
      "execution_count": null,
      "outputs": []
    },
    {
      "cell_type": "markdown",
      "source": [
        "# Load model \n"
      ],
      "metadata": {
        "id": "5IdooTXr-uVt"
      }
    },
    {
      "cell_type": "code",
      "source": [
        "model = tf.keras.models.load_model('/content/drive/MyDrive/XAI workshop/Models/cnn_model_cam.h5')"
      ],
      "metadata": {
        "id": "Xvb4Q708-575"
      },
      "execution_count": null,
      "outputs": []
    },
    {
      "cell_type": "code",
      "source": [
        "model.summary()"
      ],
      "metadata": {
        "id": "kHr3Tijk_B6E"
      },
      "execution_count": null,
      "outputs": []
    },
    {
      "cell_type": "markdown",
      "source": [
        "## Create CAM model"
      ],
      "metadata": {
        "id": "TaXY-tjlULuG"
      }
    },
    {
      "cell_type": "code",
      "source": [
        "cam_model = tf.keras.models.Model(inputs=model.input, outputs=(model.layers[-3].output, model.layers[-1].output))"
      ],
      "metadata": {
        "id": "swNJTeo3_ViO"
      },
      "execution_count": null,
      "outputs": []
    },
    {
      "cell_type": "markdown",
      "source": [
        "# Take some images for testing"
      ],
      "metadata": {
        "id": "bvEBkaMdUTwL"
      }
    },
    {
      "cell_type": "code",
      "source": [
        "!wget -O cat1.jpg https://storage.googleapis.com/laurencemoroney-blog.appspot.com/MLColabImages/cat1.jpg\n",
        "!wget -O cat2.jpg https://storage.googleapis.com/laurencemoroney-blog.appspot.com/MLColabImages/cat2.jpg\n",
        "!wget -O catanddog.jpg https://storage.googleapis.com/laurencemoroney-blog.appspot.com/MLColabImages/catanddog.jpg\n",
        "!wget -O dog1.jpg https://storage.googleapis.com/laurencemoroney-blog.appspot.com/MLColabImages/dog1.jpg\n",
        "!wget -O dog2.jpg https://storage.googleapis.com/laurencemoroney-blog.appspot.com/MLColabImages/dog2.jpg"
      ],
      "metadata": {
        "id": "3mHI4t8PAXnO"
      },
      "execution_count": null,
      "outputs": []
    },
    {
      "cell_type": "markdown",
      "source": [
        "## Prepare image and show resuts"
      ],
      "metadata": {
        "id": "NbG1CXJqbQD-"
      }
    },
    {
      "cell_type": "code",
      "source": [
        "tf.__version__"
      ],
      "metadata": {
        "id": "jc4wDb3Bcf4P"
      },
      "execution_count": null,
      "outputs": []
    },
    {
      "cell_type": "code",
      "source": [
        "image = 'cat1'"
      ],
      "metadata": {
        "id": "wyooQQvIdIVa"
      },
      "execution_count": null,
      "outputs": []
    },
    {
      "cell_type": "code",
      "source": [
        "def prepare_and_show_image(image): \n",
        "  # read image \n",
        "  image = cv2.imread(image)\n",
        "\n",
        "  # resize image to to match the model input \n",
        "  image = cv2.resize(image, (300, 300))\n",
        "\n",
        "  # normalize image \n",
        "  image = image /255\n",
        "  \n",
        "  # add one more axis \n",
        "  image_tensor = np.expand_dims(image, axis=0)\n",
        "\n",
        "  #make a prediction\n",
        "  features, res = cam_model.predict(image_tensor)\n",
        "  \n",
        "  #get the class_Activation features\n",
        "  class_activation_features = sp.ndimage.zoom(features[0], (300/33, 300/33, 1), order=2)\n",
        "\n",
        "  # get the class activation weights \n",
        "  class_activation_weights = model.layers[-1].get_weights()[0][:,0]\n",
        "\n",
        "  # calculate the activation map \n",
        "  cam_output = np.dot(class_activation_features, class_activation_weights)\n",
        "  \n",
        "  # print and visualize \n",
        "  print(\"DOG\" if round(res[0][0]) else \"CAT\")\n",
        "  fig = plt.figure(figsize=(10,10))\n",
        "  plt.imshow(cam_output, cmap='jet', alpha=0.6)\n",
        "  plt.imshow(tf.squeeze(image_tensor), alpha=0.3)\n",
        "\n"
      ],
      "metadata": {
        "id": "S_wrIe98VM8Q"
      },
      "execution_count": null,
      "outputs": []
    },
    {
      "cell_type": "code",
      "source": [
        "prepare_and_show_image('cat1.jpg')\n",
        "prepare_and_show_image('cat2.jpg')\n",
        "prepare_and_show_image('dog1.jpg')\n",
        "prepare_and_show_image('dog2.jpg')"
      ],
      "metadata": {
        "id": "GPvqWhqGQpbk"
      },
      "execution_count": null,
      "outputs": []
    }
  ]
}