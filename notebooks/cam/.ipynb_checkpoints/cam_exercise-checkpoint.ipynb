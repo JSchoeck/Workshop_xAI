{
 "cells": [
  {
   "cell_type": "markdown",
   "metadata": {
    "id": "dUeNJimg-vHd"
   },
   "source": [
    "# Imports "
   ]
  },
  {
   "cell_type": "code",
   "execution_count": null,
   "metadata": {},
   "outputs": [],
   "source": []
  },
  {
   "cell_type": "code",
   "execution_count": null,
   "metadata": {
    "id": "zr4V_uueVwoE"
   },
   "outputs": [],
   "source": [
    "import tensorflow as tf \n",
    "import tensorflow_datasets as tfds \n",
    "import cv2 \n",
    "import matplotlib.pyplot as plt\n",
    "import scipy as sp \n",
    "import numpy as np "
   ]
  },
  {
   "cell_type": "code",
   "execution_count": null,
   "metadata": {
    "id": "xAvgCDLCbCoy"
   },
   "outputs": [],
   "source": [
    "from google.colab import drive\n",
    "drive.mount('/content/drive')"
   ]
  },
  {
   "cell_type": "markdown",
   "metadata": {
    "id": "5IdooTXr-uVt"
   },
   "source": [
    "# Load model \n"
   ]
  },
  {
   "cell_type": "code",
   "execution_count": null,
   "metadata": {
    "id": "Xvb4Q708-575"
   },
   "outputs": [],
   "source": [
    "model = tf.keras.models.load_model('/content/drive/MyDrive/XAI workshop/Models/cnn_model_cam.h5')"
   ]
  },
  {
   "cell_type": "code",
   "execution_count": null,
   "metadata": {
    "id": "kHr3Tijk_B6E"
   },
   "outputs": [],
   "source": [
    "model.summary()"
   ]
  },
  {
   "cell_type": "markdown",
   "metadata": {
    "id": "TaXY-tjlULuG"
   },
   "source": [
    "## Create CAM model"
   ]
  },
  {
   "cell_type": "code",
   "execution_count": null,
   "metadata": {
    "id": "swNJTeo3_ViO"
   },
   "outputs": [],
   "source": [
    "############ CODE HERE  ############\n",
    "\n",
    "\n",
    "\n",
    "\n",
    "\n",
    "############ CODE HERE  ############"
   ]
  },
  {
   "cell_type": "markdown",
   "metadata": {
    "id": "bvEBkaMdUTwL"
   },
   "source": [
    "# Take some images for testing"
   ]
  },
  {
   "cell_type": "code",
   "execution_count": null,
   "metadata": {
    "id": "3mHI4t8PAXnO"
   },
   "outputs": [],
   "source": [
    "!wget -O cat1.jpg https://storage.googleapis.com/laurencemoroney-blog.appspot.com/MLColabImages/cat1.jpg\n",
    "!wget -O cat2.jpg https://storage.googleapis.com/laurencemoroney-blog.appspot.com/MLColabImages/cat2.jpg\n",
    "!wget -O catanddog.jpg https://storage.googleapis.com/laurencemoroney-blog.appspot.com/MLColabImages/catanddog.jpg\n",
    "!wget -O dog1.jpg https://storage.googleapis.com/laurencemoroney-blog.appspot.com/MLColabImages/dog1.jpg\n",
    "!wget -O dog2.jpg https://storage.googleapis.com/laurencemoroney-blog.appspot.com/MLColabImages/dog2.jpg"
   ]
  },
  {
   "cell_type": "markdown",
   "metadata": {
    "id": "NbG1CXJqbQD-"
   },
   "source": [
    "## Prepare image and show resuts"
   ]
  },
  {
   "cell_type": "code",
   "execution_count": null,
   "metadata": {
    "id": "S_wrIe98VM8Q"
   },
   "outputs": [],
   "source": [
    "def prepare_and_show_image(image): \n",
    "  \n",
    "  # read image \n",
    "  ############ CODE HERE  ############\n",
    "\n",
    "  # resize image to to match the model input \n",
    "  ############ CODE HERE  ############\n",
    "\n",
    "  # normalize image \n",
    " ############ CODE HERE  ############\n",
    "  \n",
    "  # add one more axis \n",
    "  ############ CODE HERE  ############\n",
    "\n",
    "  #make a prediction\n",
    "  ############ CODE HERE  ############\n",
    "  \n",
    "  #get the class_Activation features\n",
    "  ############ CODE HERE  ############\n",
    "\n",
    "  # get the class activation weights \n",
    "  ############ CODE HERE  ############\n",
    "\n",
    "  # calculate the activation map \n",
    "  ############ CODE HERE  ############\n",
    "  \n",
    "  # print and visualize \n",
    "  print(\"DOG\" if round(res[0][0]) else \"CAT\")\n",
    "  fig = plt.figure(figsize=(10,10))\n",
    "  plt.imshow(cam_output, cmap='jet', alpha=0.6)\n",
    "  plt.imshow(tf.squeeze(image_tensor), alpha=0.3)\n",
    "\n"
   ]
  },
  {
   "cell_type": "code",
   "execution_count": null,
   "metadata": {
    "id": "GPvqWhqGQpbk"
   },
   "outputs": [],
   "source": [
    "prepare_and_show_image('cat1.jpg')\n",
    "prepare_and_show_image('cat2.jpg')\n",
    "prepare_and_show_image('dog1.jpg')\n",
    "prepare_and_show_image('dog2.jpg')"
   ]
  },
  {
   "cell_type": "markdown",
   "metadata": {
    "id": "wzqTdUj1gvOm"
   },
   "source": [
    "## 1. If you have an image with the following shape (1080, 440, 3), what would be the preprocesing steps to preprare for a cam model that has an input shape of (None, 200, 200, 3)\n",
    "\n",
    "\n",
    "\n"
   ]
  },
  {
   "cell_type": "markdown",
   "metadata": {
    "id": "Q3R1JZr1jfvh"
   },
   "source": []
  },
  {
   "cell_type": "markdown",
   "metadata": {
    "id": "9rOgmCHKjSAm"
   },
   "source": [
    "## 2. Why do we have to to use tf.squeeze before ploting the image on the same figure with the actiavtion maps?\n"
   ]
  },
  {
   "cell_type": "markdown",
   "metadata": {
    "id": "qxkELG-0jd27"
   },
   "source": []
  },
  {
   "cell_type": "markdown",
   "metadata": {
    "id": "-Huz9CCSjYeK"
   },
   "source": [
    "## 3. Which of the following options is correct to extract the class activatios weights from a model that has its gloable average pooling layer number 2 to the last\n",
    "  a) model.layers[-2].get_weights()\n",
    "\n",
    "  b) model.layers[-1].get_weights()\n",
    "\n",
    "  c) model.layerss[-1].output"
   ]
  },
  {
   "cell_type": "code",
   "execution_count": null,
   "metadata": {
    "id": "_iXtBcsKjQKQ"
   },
   "outputs": [],
   "source": []
  },
  {
   "cell_type": "code",
   "execution_count": null,
   "metadata": {
    "id": "LJAuxyHIjWpP"
   },
   "outputs": [],
   "source": []
  }
 ],
 "metadata": {
  "colab": {
   "collapsed_sections": [],
   "name": "cam_exercise.ipynb",
   "provenance": []
  },
  "kernelspec": {
   "display_name": "Python 3 (ipykernel)",
   "language": "python",
   "name": "python3"
  },
  "language_info": {
   "codemirror_mode": {
    "name": "ipython",
    "version": 3
   },
   "file_extension": ".py",
   "mimetype": "text/x-python",
   "name": "python",
   "nbconvert_exporter": "python",
   "pygments_lexer": "ipython3",
   "version": "3.9.7"
  }
 },
 "nbformat": 4,
 "nbformat_minor": 1
}
